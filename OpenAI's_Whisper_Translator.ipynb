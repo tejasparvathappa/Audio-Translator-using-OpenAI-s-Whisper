{
  "nbformat": 4,
  "nbformat_minor": 0,
  "metadata": {
    "colab": {
      "provenance": []
    },
    "kernelspec": {
      "name": "python3",
      "display_name": "Python 3"
    },
    "language_info": {
      "name": "python"
    }
  },
  "cells": [
    {
      "cell_type": "code",
      "source": [
        "import os\n",
        "from openai import OpenAI\n",
        "import whisper"
      ],
      "metadata": {
        "id": "UTsd5oftEPBl"
      },
      "execution_count": null,
      "outputs": []
    },
    {
      "cell_type": "code",
      "source": [
        "os.environ['OPENAI_API_KEY'] = ''\n",
        "\n",
        "client = OpenAI()"
      ],
      "metadata": {
        "id": "en3WT7udIcTZ"
      },
      "execution_count": null,
      "outputs": []
    },
    {
      "cell_type": "code",
      "source": [
        "from IPython.display import YouTubeVideo\n",
        "\n",
        "# Get the YouTube video ID\n",
        "video_id = \"J7DTKwHoSdA\"\n",
        "\n",
        "# Play the video within a frame\n",
        "YouTubeVideo(video_id, width=560, height=315)"
      ],
      "metadata": {
        "colab": {
          "base_uri": "https://localhost:8080/",
          "height": 336
        },
        "id": "hOTvZMTnSzpw",
        "outputId": "f6398aff-f5f4-40ba-d18d-606a55aeaabc"
      },
      "execution_count": null,
      "outputs": [
        {
          "output_type": "execute_result",
          "data": {
            "text/plain": [
              "<IPython.lib.display.YouTubeVideo at 0x7f907988c4f0>"
            ],
            "text/html": [
              "\n",
              "        <iframe\n",
              "            width=\"560\"\n",
              "            height=\"315\"\n",
              "            src=\"https://www.youtube.com/embed/J7DTKwHoSdA\"\n",
              "            frameborder=\"0\"\n",
              "            allowfullscreen\n",
              "            \n",
              "        ></iframe>\n",
              "        "
            ],
            "image/jpeg": "[encoded data removed]"
          },
          "metadata": {},
          "execution_count": 45
        }
      ]
    },
    {
      "cell_type": "code",
      "source": [
        "audio_file= open(\"german_audio.mp3\", \"rb\")\n",
        "translation = client.audio.translations.create(model=\"whisper-1\",file=audio_file)"
      ],
      "metadata": {
        "id": "4vsFv0aRIcbG"
      },
      "execution_count": null,
      "outputs": []
    },
    {
      "cell_type": "code",
      "source": [
        "from IPython.display import HTML\n",
        "display(HTML('''\n",
        "<style>\n",
        "  pre {\n",
        "      white-space: normal;\n",
        "  }\n",
        "</style>\n",
        "'''))\n",
        "print(translation.text)"
      ],
      "metadata": {
        "colab": {
          "base_uri": "https://localhost:8080/",
          "height": 121
        },
        "id": "19vf8eLeFV9C",
        "outputId": "60595214-cac3-4e2d-dfdf-d4236feaf134"
      },
      "execution_count": null,
      "outputs": [
        {
          "output_type": "display_data",
          "data": {
            "text/plain": [
              "<IPython.core.display.HTML object>"
            ],
            "text/html": [
              "\n",
              "<style>\n",
              "  pre {\n",
              "      white-space: normal;\n",
              "  }\n",
              "</style>\n"
            ]
          },
          "metadata": {}
        },
        {
          "output_type": "stream",
          "name": "stdout",
          "text": [
            "Wait a minute, Pamela. Just a moment. Would you give my son an autograph for his birthday? Of course I would, Wilhelm. This handsome Oberfeldwebel has become a happy father today. Oh, congratulations. Thank you. Do you know the name of the kid? Yes. His name is Maximilian. Maximilian, that's a nice name. Thank you, Obersturmführer. A little Maximilian is the best. Thank you. Thank you, ladies. Max doesn't know who you are yet, but he will know. I will show him your movies. He will grow up with your movies. With this napkin over his bed, I raise my glass to the greatest actress in Germany. There is no Dietrich, no Riefenstahl, there is only one, Mrs. Hammersmark! Cheers! To Mrs. Hammersmark! Cheers! Say it again. To Mrs. Hammersmark. To Mrs. Hammersmark. What is she doing in France? That's none of your business, Oberfeldwebel. You may not have been able to get the hospitality of Mrs. Leinz with your drunken, rippling behavior, but very well mine. May I remind you, Oberfeldwebel, you are a soldier. This is an officer's table. Make sure you don't harass Mrs. Leinz and return to your table. Excuse me, Hauptsturmführer, you have a very unusual accent. Where do you come from? You either have to be drunk or completely crazy to dare to speak to an officer like that, Oberfeldwebel.\n"
          ]
        }
      ]
    }
  ]
}